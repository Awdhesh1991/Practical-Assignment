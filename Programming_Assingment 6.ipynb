{
 "cells": [
  {
   "cell_type": "markdown",
   "id": "85938e16-91c6-4a8a-b606-311a0933683c",
   "metadata": {},
   "source": [
    "# 1.Write a Python Program to Display Fibonacci Sequence Using Recursion?"
   ]
  },
  {
   "cell_type": "code",
   "execution_count": 2,
   "id": "0a275d94-25e8-4e71-84e6-d7a01efb93d0",
   "metadata": {},
   "outputs": [
    {
     "name": "stdin",
     "output_type": "stream",
     "text": [
      "Enter the number of terms in fibonacci sequence : 15\n"
     ]
    },
    {
     "name": "stdout",
     "output_type": "stream",
     "text": [
      "0\n",
      "1\n",
      "1\n",
      "2\n",
      "3\n",
      "5\n",
      "8\n",
      "13\n",
      "21\n",
      "34\n",
      "55\n",
      "89\n",
      "144\n",
      "233\n",
      "377\n",
      "610\n"
     ]
    }
   ],
   "source": [
    "def fibonacci(i):\n",
    "    if i <= 1:\n",
    "        return i\n",
    "    else:\n",
    "        return fibonacci(i-1) + fibonacci(i-2)\n",
    "\n",
    "terms = int(input(\"Enter the number of terms in fibonacci sequence :\"))\n",
    "for i in range(0,terms+1):\n",
    "    print(fibonacci(i))"
   ]
  },
  {
   "cell_type": "markdown",
   "id": "b6a33f47-d2d4-4376-91ad-bf0aaf629930",
   "metadata": {},
   "source": [
    "# 2.Write a Python Program to Find Factorial of Number Using Recursion?"
   ]
  },
  {
   "cell_type": "code",
   "execution_count": 14,
   "id": "ebe68c3b-72e7-490d-a56a-1df8a99a8de6",
   "metadata": {},
   "outputs": [
    {
     "name": "stdin",
     "output_type": "stream",
     "text": [
      "Enter a non-negative integer:  5\n"
     ]
    },
    {
     "name": "stdout",
     "output_type": "stream",
     "text": [
      "Factorial of 5 is 120\n"
     ]
    }
   ],
   "source": [
    "def factorial(number):\n",
    "    if number == 0:\n",
    "        return 1\n",
    "    else:\n",
    "        return number * factorial(number - 1)\n",
    "\n",
    "number = int(input(\"Enter a non-negative integer: \"))\n",
    "if number <= 0:\n",
    "    print(\"Factorial number is not exists lass then 1 :\")\n",
    "else:\n",
    "    result = factorial(number)\n",
    "    print(\"Factorial of\", number, \"is\", result)\n"
   ]
  },
  {
   "cell_type": "markdown",
   "id": "d4bafa41-cf82-4d79-8d1e-a69d37d7d24c",
   "metadata": {},
   "source": [
    "# 3.Write a Python Program to calculate your Body Mass Index?"
   ]
  },
  {
   "cell_type": "code",
   "execution_count": 16,
   "id": "4feb31e2-186c-40c9-94d8-e29de3d47424",
   "metadata": {},
   "outputs": [
    {
     "name": "stdin",
     "output_type": "stream",
     "text": [
      "Enter your height in Feet:  1.5\n",
      "Enter your weight in Kilograms:  76.55\n"
     ]
    },
    {
     "name": "stdout",
     "output_type": "stream",
     "text": [
      "Your body mass index is:  34.02\n"
     ]
    }
   ],
   "source": [
    "height = float(input(\"Enter your height in Feet: \"))\n",
    "\n",
    "weight = float(input(\"Enter your weight in Kilograms: \"))\n",
    "\n",
    "bmi = weight / (height * height)\n",
    "rounded_bmi = round(bmi, 2)\n",
    "\n",
    "print(\"Your body mass index is: \", rounded_bmi)\n"
   ]
  },
  {
   "cell_type": "code",
   "execution_count": 19,
   "id": "733a9b79-5734-417b-92bf-9346b1305296",
   "metadata": {},
   "outputs": [
    {
     "name": "stdin",
     "output_type": "stream",
     "text": [
      "Enter your weight in kilograms:  76.55\n",
      "Enter your height in meters:  1.70\n"
     ]
    },
    {
     "name": "stdout",
     "output_type": "stream",
     "text": [
      "Your BMI is: 26.487889273356405\n",
      "Interpretation: Overweight\n"
     ]
    }
   ],
   "source": [
    "def calculate_bmi(weight, height):\n",
    "    bmi = weight / (height ** 2)\n",
    "    return bmi\n",
    "\n",
    "def interpret_bmi(bmi):\n",
    "    if bmi < 18.5:\n",
    "        return \"Underweight\"\n",
    "    elif 18.5 <= bmi < 25:\n",
    "        return \"Normal weight\"\n",
    "    elif 25 <= bmi < 30:\n",
    "        return \"Overweight\"\n",
    "    else:\n",
    "        return \"Obese\"\n",
    "\n",
    "weight = float(input(\"Enter your weight in kilograms: \"))\n",
    "height = float(input(\"Enter your height in meters: \"))\n",
    "\n",
    "bmi = calculate_bmi(weight, height)\n",
    "print(\"Your BMI is:\", bmi)\n",
    "print(\"Interpretation:\", interpret_bmi(bmi))\n"
   ]
  },
  {
   "cell_type": "markdown",
   "id": "7c0cd5aa-edac-4907-8a81-484173ddf1a0",
   "metadata": {},
   "source": [
    "# 4.Write a Python Program to calculate the natural logarithm of any number?"
   ]
  },
  {
   "cell_type": "code",
   "execution_count": 21,
   "id": "146b4fef-6dc3-4ef8-848a-6b4248f47b73",
   "metadata": {},
   "outputs": [
    {
     "name": "stdin",
     "output_type": "stream",
     "text": [
      "Enter a positive number:  32\n"
     ]
    },
    {
     "name": "stdout",
     "output_type": "stream",
     "text": [
      "Natural logarithm of 15.0 is 3.4657359027997265\n"
     ]
    }
   ],
   "source": [
    "import math\n",
    "\n",
    "def calculate_natural_logarithm(number):\n",
    "    if number <= 0:\n",
    "        return \"Natural logarithm is not defined for non-positive numbers.\"\n",
    "    else:\n",
    "        return math.log(number)\n",
    "\n",
    "number = float(input(\"Enter a positive number: \"))\n",
    "result = calculate_natural_logarithm(number)\n",
    "print(\"Natural logarithm of\", num, \"is\", result)\n"
   ]
  },
  {
   "cell_type": "markdown",
   "id": "19182df6-4f56-4cd4-879d-f8a764a3c016",
   "metadata": {},
   "source": [
    "# 5.Write a Python Program for cube sum of first n natural numbers?"
   ]
  },
  {
   "cell_type": "code",
   "execution_count": 24,
   "id": "ff1443b6-f3f1-46fd-a4f9-85e4ed238209",
   "metadata": {},
   "outputs": [
    {
     "name": "stdin",
     "output_type": "stream",
     "text": [
      "Enter the number : 25\n"
     ]
    },
    {
     "name": "stdout",
     "output_type": "stream",
     "text": [
      "Sum of cube : 105625\n"
     ]
    }
   ],
   "source": [
    "cube = 0\n",
    "number =int(input(\"Enter the number :\"))\n",
    "for i in range(1, number +1):\n",
    "    cube = cube + i*i*i\n",
    "print(\"Sum of cube :\", cube)"
   ]
  },
  {
   "cell_type": "code",
   "execution_count": 25,
   "id": "3da5d625-132f-44b7-8730-e36da560312d",
   "metadata": {},
   "outputs": [
    {
     "name": "stdin",
     "output_type": "stream",
     "text": [
      "Enter a positive integer (n):  25\n"
     ]
    },
    {
     "name": "stdout",
     "output_type": "stream",
     "text": [
      "Cube sum of the first 25 natural numbers is: 105625\n"
     ]
    }
   ],
   "source": [
    "def cube_sum_of_natural_numbers(n):\n",
    "    if n <= 0:\n",
    "        return \"Please enter a positive integer.\"\n",
    "    else:\n",
    "        cube_sum = sum([i**3 for i in range(1, n+1)])\n",
    "        return cube_sum\n",
    "\n",
    "n = int(input(\"Enter a positive integer (n): \"))\n",
    "result = cube_sum_of_natural_numbers(n)\n",
    "print(\"Cube sum of the first\", n, \"natural numbers is:\", result)\n"
   ]
  },
  {
   "cell_type": "code",
   "execution_count": null,
   "id": "0f6e3808-5d24-4b72-a745-2b32c2b9352f",
   "metadata": {},
   "outputs": [],
   "source": []
  },
  {
   "cell_type": "code",
   "execution_count": null,
   "id": "c1ccef90-8b07-4a53-b053-8c552bebc09f",
   "metadata": {},
   "outputs": [],
   "source": []
  }
 ],
 "metadata": {
  "kernelspec": {
   "display_name": "Python 3 (ipykernel)",
   "language": "python",
   "name": "python3"
  },
  "language_info": {
   "codemirror_mode": {
    "name": "ipython",
    "version": 3
   },
   "file_extension": ".py",
   "mimetype": "text/x-python",
   "name": "python",
   "nbconvert_exporter": "python",
   "pygments_lexer": "ipython3",
   "version": "3.11.7"
  }
 },
 "nbformat": 4,
 "nbformat_minor": 5
}
