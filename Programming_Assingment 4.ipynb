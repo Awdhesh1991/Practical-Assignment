{
 "cells": [
  {
   "cell_type": "markdown",
   "id": "3d9262c2-347f-49ec-a90c-799f292f3ffd",
   "metadata": {},
   "source": [
    "# 1.Write a Python Program to Find the Factorial of a Number?"
   ]
  },
  {
   "cell_type": "code",
   "execution_count": 2,
   "id": "0e7d1f23-fcac-472d-8e65-95d6f47a7597",
   "metadata": {},
   "outputs": [
    {
     "name": "stdin",
     "output_type": "stream",
     "text": [
      "Enter a Number : 5\n"
     ]
    },
    {
     "name": "stdout",
     "output_type": "stream",
     "text": [
      "The Factorial of 5 is 120\n"
     ]
    }
   ],
   "source": [
    "Number = int(input(\"Enter a Number :\"))\n",
    "factorial = 1\n",
    "number1 = 1\n",
    "while number1<=Number:\n",
    "    factorial=factorial*number1\n",
    "    number1 = number1+1 \n",
    "print(\"The Factorial of\" ,Number, \"is\" ,factorial)\n",
    "             "
   ]
  },
  {
   "cell_type": "markdown",
   "id": "0d030afb-35fe-4105-bce4-113f815778a7",
   "metadata": {},
   "source": [
    "# 2.Write a Python Program to Display the multiplication Table?"
   ]
  },
  {
   "cell_type": "code",
   "execution_count": 3,
   "id": "d92bbec3-5338-465e-90e5-ba8a718e91ea",
   "metadata": {},
   "outputs": [
    {
     "name": "stdin",
     "output_type": "stream",
     "text": [
      "Enter the number to display multiplication table : 14\n"
     ]
    },
    {
     "name": "stdout",
     "output_type": "stream",
     "text": [
      "Multiplication table :\n",
      "14*1=14\n",
      "14*2=28\n",
      "14*3=42\n",
      "14*4=56\n",
      "14*5=70\n",
      "14*6=84\n",
      "14*7=98\n",
      "14*8=112\n",
      "14*9=126\n",
      "14*10=140\n"
     ]
    }
   ],
   "source": [
    "Number = int(input(\"Enter the number to display multiplication table :\"))\n",
    "print(\"Multiplication table :\")\n",
    "for i in range(1,11):\n",
    "    print(\"{}*{}={}\".format(Number,i,(Number*i)))"
   ]
  },
  {
   "cell_type": "code",
   "execution_count": 6,
   "id": "34d6cbb2-e284-482a-966f-56e20d076ca6",
   "metadata": {},
   "outputs": [
    {
     "name": "stdin",
     "output_type": "stream",
     "text": [
      "Enter a number:  12\n"
     ]
    },
    {
     "name": "stdout",
     "output_type": "stream",
     "text": [
      "Multiplication Table of 12\n",
      "12 * 1 = 12\n",
      "12 * 2 = 24\n",
      "12 * 3 = 36\n",
      "12 * 4 = 48\n",
      "12 * 5 = 60\n",
      "12 * 6 = 72\n",
      "12 * 7 = 84\n",
      "12 * 8 = 96\n",
      "12 * 9 = 108\n",
      "12 * 10 = 120\n"
     ]
    }
   ],
   "source": [
    "def multiplication_table(number):\n",
    "\n",
    "    print(\"Multiplication Table of\", number)\n",
    "    for i in range(1, 11):\n",
    "        print(number, \"*\", i, \"=\", number * i)\n",
    "\n",
    "num = int(input(\"Enter a number: \"))\n",
    "\n",
    "multiplication_table(num)\n"
   ]
  },
  {
   "cell_type": "markdown",
   "id": "57c05730-6b3e-488e-a987-2334da0c638c",
   "metadata": {},
   "source": [
    "# 3.Write a Python Program to Print the Fibonacci sequence?"
   ]
  },
  {
   "cell_type": "code",
   "execution_count": 9,
   "id": "c3ce68ba-74be-457c-b8d7-e35920b69949",
   "metadata": {},
   "outputs": [
    {
     "name": "stdin",
     "output_type": "stream",
     "text": [
      "Enter the number of terms : 10\n"
     ]
    },
    {
     "name": "stdout",
     "output_type": "stream",
     "text": [
      "0\n",
      "1\n",
      "1\n",
      "2\n",
      "3\n",
      "5\n",
      "8\n",
      "13\n",
      "21\n",
      "34\n"
     ]
    }
   ],
   "source": [
    "def fidonacci(Number):\n",
    "    if Number==1:\n",
    "        return 0\n",
    "    if Number==2:\n",
    "        return 1\n",
    "    return(fidonacci(Number-2)+fidonacci(Number-1))\n",
    "Number = int(input(\"Enter the number of terms :\"))\n",
    "for i in range (1,Number+1):\n",
    "    print(fidonacci(i))          "
   ]
  },
  {
   "cell_type": "markdown",
   "id": "1786624c-b6a0-4b06-8ad3-296042dc39ef",
   "metadata": {},
   "source": [
    "# 4.Write a Python Program to Check Armstrong Number?"
   ]
  },
  {
   "cell_type": "code",
   "execution_count": 14,
   "id": "c7c8b136-c738-42e1-b70e-e20dd62b9bf6",
   "metadata": {},
   "outputs": [
    {
     "name": "stdin",
     "output_type": "stream",
     "text": [
      "Enter the number to check armstrong : 123\n"
     ]
    },
    {
     "name": "stdout",
     "output_type": "stream",
     "text": [
      "Number is not Armstrong :\n"
     ]
    }
   ],
   "source": [
    "Armstrong_Number =int(input(\"Enter the number to check armstrong :\"))\n",
    "orig=Armstrong_Number\n",
    "sum=0\n",
    "while (Armstrong_Number>0):\n",
    "    sum=sum+(Armstrong_Number%10)*(Armstrong_Number%10)*(Armstrong_Number%10)\n",
    "    Armstrong_Number = Armstrong_Number//10\n",
    "if orig==sum:\n",
    "    print(\"Number is Armstrong :\")\n",
    "else:\n",
    "    print(\"Number is not Armstrong :\")"
   ]
  },
  {
   "cell_type": "markdown",
   "id": "9ffac3e7-ec1f-4945-8fb2-79b9a3da1947",
   "metadata": {},
   "source": [
    "# 5.Write a Python Program to Find Armstrong Number in an Interval?"
   ]
  },
  {
   "cell_type": "code",
   "execution_count": 4,
   "id": "776cc496-7d65-437f-a9e6-48cd9ee19158",
   "metadata": {},
   "outputs": [
    {
     "name": "stdin",
     "output_type": "stream",
     "text": [
      "Enter the lower number : 1\n",
      "Enter the upper number : 1000\n"
     ]
    },
    {
     "name": "stdout",
     "output_type": "stream",
     "text": [
      "1\n",
      "2\n",
      "3\n",
      "4\n",
      "5\n",
      "6\n",
      "7\n",
      "8\n",
      "9\n",
      "153\n",
      "370\n",
      "371\n",
      "407\n"
     ]
    }
   ],
   "source": [
    "lower = int(input(\"Enter the lower number :\"))\n",
    "upper = int(input(\"Enter the upper number :\"))\n",
    "\n",
    "for number in range(lower,upper+1):\n",
    "    order = len(str(number))\n",
    "    sum = 0\n",
    "    temp = number\n",
    "    while temp > 0 :\n",
    "        digit = temp % 10\n",
    "        sum += digit**order\n",
    "        temp = temp//10\n",
    "    if number == sum :\n",
    "        print(number)\n",
    "    "
   ]
  },
  {
   "cell_type": "markdown",
   "id": "6831cc11-ca18-4b97-8e50-998e02d224f7",
   "metadata": {},
   "source": [
    "# 6.Write a Python Program to Find the Sum of Natural Numbers?"
   ]
  },
  {
   "cell_type": "code",
   "execution_count": 9,
   "id": "387a609c-615c-41ac-a60a-2a856de2f9d6",
   "metadata": {},
   "outputs": [
    {
     "name": "stdin",
     "output_type": "stream",
     "text": [
      "Enter the number : -1\n"
     ]
    },
    {
     "name": "stdout",
     "output_type": "stream",
     "text": [
      "Enter the positive number\n"
     ]
    }
   ],
   "source": [
    "Number = int(input(\"Enter the number :\"))\n",
    "if Number < 0:\n",
    "    print(\"Enter the positive number\")\n",
    "else:\n",
    "    sum = 0\n",
    "    while Number>0:\n",
    "        sum+=Number\n",
    "        Number-=1\n",
    "        print(sum)"
   ]
  },
  {
   "cell_type": "code",
   "execution_count": 6,
   "id": "382ea261-e95e-49f2-abdf-32c84d9a3f2b",
   "metadata": {},
   "outputs": [
    {
     "name": "stdin",
     "output_type": "stream",
     "text": [
      "Enter a number:  14\n"
     ]
    },
    {
     "name": "stdout",
     "output_type": "stream",
     "text": [
      "The sum of natural numbers up to 14 is: 105\n"
     ]
    }
   ],
   "source": [
    "def sum_of_natural_numbers(Number):\n",
    "    \n",
    "    if Number < 0:\n",
    "        return \"Please enter a positive integer.\"\n",
    "    else:\n",
    "        return (Number * (Number + 1)) // 2\n",
    "\n",
    "number = int(input(\"Enter a number: \"))\n",
    "\n",
    "result = sum_of_natural_numbers(number)\n",
    "\n",
    "print(\"The sum of natural numbers up to\", number, \"is:\", result)\n"
   ]
  }
 ],
 "metadata": {
  "kernelspec": {
   "display_name": "Python 3 (ipykernel)",
   "language": "python",
   "name": "python3"
  },
  "language_info": {
   "codemirror_mode": {
    "name": "ipython",
    "version": 3
   },
   "file_extension": ".py",
   "mimetype": "text/x-python",
   "name": "python",
   "nbconvert_exporter": "python",
   "pygments_lexer": "ipython3",
   "version": "3.11.7"
  }
 },
 "nbformat": 4,
 "nbformat_minor": 5
}
