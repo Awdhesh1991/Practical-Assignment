{
 "cells": [
  {
   "cell_type": "markdown",
   "id": "0ca5bd2e-491c-41f3-aa87-4624dfed943e",
   "metadata": {},
   "source": [
    "# 1.\tWrite a Python program to print \"Hello Python\"?"
   ]
  },
  {
   "cell_type": "code",
   "execution_count": 1,
   "id": "c8b2b763-09f7-4466-a801-507a6174606b",
   "metadata": {},
   "outputs": [
    {
     "name": "stdout",
     "output_type": "stream",
     "text": [
      "Hello Python\n"
     ]
    }
   ],
   "source": [
    "def greeting():\n",
    "    return\"Hello Python\"\n",
    "print(greeting()) "
   ]
  },
  {
   "cell_type": "code",
   "execution_count": 2,
   "id": "e95236b4-ec26-4a76-b656-0a6e0d30ff4d",
   "metadata": {},
   "outputs": [
    {
     "name": "stdout",
     "output_type": "stream",
     "text": [
      "Hello Python\n"
     ]
    }
   ],
   "source": [
    "Greeting = \"Hello Python\"\n",
    "print(Greeting)"
   ]
  },
  {
   "cell_type": "markdown",
   "id": "08505ad3-0e6e-44e6-93e5-146a0b4e29a5",
   "metadata": {},
   "source": [
    "# 2.\tWrite a Python program to do arithmetical operations addition and division.?"
   ]
  },
  {
   "cell_type": "code",
   "execution_count": 5,
   "id": "91147fa0-c94a-4032-a51b-b86c5a678f0b",
   "metadata": {},
   "outputs": [
    {
     "data": {
      "text/plain": [
       "25"
      ]
     },
     "execution_count": 5,
     "metadata": {},
     "output_type": "execute_result"
    }
   ],
   "source": [
    "def addition(Number1,Number2):\n",
    "    return Number1+Number2\n",
    "addition(10,15)"
   ]
  },
  {
   "cell_type": "code",
   "execution_count": 7,
   "id": "77db9513-8460-4ab5-934c-f4630b1bce52",
   "metadata": {},
   "outputs": [
    {
     "data": {
      "text/plain": [
       "9"
      ]
     },
     "execution_count": 7,
     "metadata": {},
     "output_type": "execute_result"
    }
   ],
   "source": [
    "def division(Number1,Number2):\n",
    "    return Number1//Number2\n",
    "division(45,5)"
   ]
  },
  {
   "cell_type": "code",
   "execution_count": 8,
   "id": "c3249320-c49b-4bf5-9945-8f252aefe669",
   "metadata": {},
   "outputs": [
    {
     "data": {
      "text/plain": [
       "9.0"
      ]
     },
     "execution_count": 8,
     "metadata": {},
     "output_type": "execute_result"
    }
   ],
   "source": [
    "def division(Number1,Number2):\n",
    "    return Number1/Number2\n",
    "division(45,5)"
   ]
  },
  {
   "cell_type": "markdown",
   "id": "28e9c065-40ae-4044-ac64-9bc567b48944",
   "metadata": {},
   "source": [
    "# 3.\tWrite a Python program to find the area of a triangle?"
   ]
  },
  {
   "cell_type": "code",
   "execution_count": 13,
   "id": "0bd1578d-8818-4a7b-bed8-ec5d475f583b",
   "metadata": {},
   "outputs": [
    {
     "name": "stdin",
     "output_type": "stream",
     "text": [
      "Enter the length of the base of the triangle:  2\n",
      "Enter the height of the triangle:  4\n"
     ]
    },
    {
     "name": "stdout",
     "output_type": "stream",
     "text": [
      "The area of the triangle is: 4.0\n"
     ]
    }
   ],
   "source": [
    "def triangle_area(base, height):\n",
    "    return 0.5 * base * height\n",
    "    \n",
    "base = float(input(\"Enter the length of the base of the triangle: \"))\n",
    "height = float(input(\"Enter the height of the triangle: \"))\n",
    "\n",
    "area = triangle_area(base, height)\n",
    "\n",
    "print(\"The area of the triangle is:\", area)\n"
   ]
  },
  {
   "cell_type": "markdown",
   "id": "2804249d-655f-43f6-9c5d-a0a5548c5890",
   "metadata": {},
   "source": [
    "# 4.\tWrite a Python program to swap two variables?"
   ]
  },
  {
   "cell_type": "code",
   "execution_count": 14,
   "id": "eceffe9d-eb00-44fe-b428-a319890e415b",
   "metadata": {},
   "outputs": [
    {
     "name": "stdout",
     "output_type": "stream",
     "text": [
      "Value of Number1 : 50\n",
      "Value of Number2 : 10\n"
     ]
    }
   ],
   "source": [
    "Number1 = 10\n",
    "Number2 = 50\n",
    "Number1,Number2=Number2,Number1\n",
    "print(\"Value of Number1 :\", Number1)\n",
    "print(\"Value of Number2 :\", Number2)"
   ]
  },
  {
   "cell_type": "code",
   "execution_count": 17,
   "id": "1be890e3-26a5-41fe-b099-0addb8acc88f",
   "metadata": {},
   "outputs": [
    {
     "data": {
      "text/plain": [
       "(50, 10)"
      ]
     },
     "execution_count": 17,
     "metadata": {},
     "output_type": "execute_result"
    }
   ],
   "source": [
    "def swap(Number1,Number2):\n",
    "    Number1,Number2 = Number2,Number1\n",
    "    return Number1,Number2\n",
    "    \n",
    "Number1 = 10\n",
    "Number2 = 50\n",
    "swap(Number1,Number2)"
   ]
  },
  {
   "cell_type": "markdown",
   "id": "c657961e-36b2-4ba8-a849-8345a0fcf2db",
   "metadata": {},
   "source": [
    "# 5.\tWrite a Python program to generate a random number?"
   ]
  },
  {
   "cell_type": "code",
   "execution_count": 15,
   "id": "27e5a567-e4d5-4892-800e-8921cda8c470",
   "metadata": {},
   "outputs": [
    {
     "name": "stdout",
     "output_type": "stream",
     "text": [
      "0.5844304042780802\n"
     ]
    }
   ],
   "source": [
    "import random\n",
    "num = random.random()\n",
    "print(num)\n"
   ]
  },
  {
   "cell_type": "code",
   "execution_count": 18,
   "id": "b53921da-3f1f-4fb5-8235-d218ec9a1323",
   "metadata": {},
   "outputs": [
    {
     "name": "stdout",
     "output_type": "stream",
     "text": [
      "Random number: 34\n"
     ]
    }
   ],
   "source": [
    "import random\n",
    "\n",
    "random_number = random.randint(1, 100)\n",
    "\n",
    "print(\"Random number:\", random_number)\n"
   ]
  },
  {
   "cell_type": "code",
   "execution_count": null,
   "id": "f7ac26ff-3c9f-41b3-be1b-b403a27b4d1b",
   "metadata": {},
   "outputs": [],
   "source": []
  }
 ],
 "metadata": {
  "kernelspec": {
   "display_name": "Python 3 (ipykernel)",
   "language": "python",
   "name": "python3"
  },
  "language_info": {
   "codemirror_mode": {
    "name": "ipython",
    "version": 3
   },
   "file_extension": ".py",
   "mimetype": "text/x-python",
   "name": "python",
   "nbconvert_exporter": "python",
   "pygments_lexer": "ipython3",
   "version": "3.11.7"
  }
 },
 "nbformat": 4,
 "nbformat_minor": 5
}
