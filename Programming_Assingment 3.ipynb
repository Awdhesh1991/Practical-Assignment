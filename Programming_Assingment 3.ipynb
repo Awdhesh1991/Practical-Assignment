{
 "cells": [
  {
   "cell_type": "markdown",
   "id": "b1cea9bc-fe1a-4e66-ba60-7f480cb4de45",
   "metadata": {},
   "source": [
    "# 1.Write a Python Program to Check if a Number is Positive, Negative or Zero?"
   ]
  },
  {
   "cell_type": "code",
   "execution_count": 3,
   "id": "15562024-98d7-43a3-b1b2-a79dc4e2b66f",
   "metadata": {},
   "outputs": [
    {
     "name": "stdin",
     "output_type": "stream",
     "text": [
      "Enter a number:  0\n"
     ]
    },
    {
     "name": "stdout",
     "output_type": "stream",
     "text": [
      "The number is zero.\n"
     ]
    }
   ],
   "source": [
    "def check_number(number):\n",
    "    if number > 0:\n",
    "        print(\"The number is positive.\")\n",
    "    elif number < 0:\n",
    "        print(\"The number is negative.\")\n",
    "    else:\n",
    "        print(\"The number is zero.\")\n",
    "\n",
    "number = float(input(\"Enter a number: \"))\n",
    "\n",
    "check_number(number)\n"
   ]
  },
  {
   "cell_type": "markdown",
   "id": "1e603a0f-67cb-44e8-ad44-328b80b5258f",
   "metadata": {},
   "source": [
    "# 2.Write a Python Program to Check if a Number is Odd or Even?"
   ]
  },
  {
   "cell_type": "code",
   "execution_count": 5,
   "id": "2fbdf94d-644c-40f6-90aa-fe578ca0f147",
   "metadata": {},
   "outputs": [
    {
     "name": "stdin",
     "output_type": "stream",
     "text": [
      "Enter a number:  4\n"
     ]
    },
    {
     "name": "stdout",
     "output_type": "stream",
     "text": [
      "The number is even.\n"
     ]
    }
   ],
   "source": [
    "def check_odd_even(number):\n",
    "    if number % 2 == 0:\n",
    "        print(\"The number is even.\")\n",
    "    else:\n",
    "        print(\"The number is odd.\")\n",
    "\n",
    "number = int(input(\"Enter a number: \"))\n",
    "\n",
    "check_odd_even(number)"
   ]
  },
  {
   "cell_type": "markdown",
   "id": "1b402150-9b34-40c4-8468-9c145ba4ae68",
   "metadata": {},
   "source": [
    "# 3.Write a Python Program to Check Leap Year?"
   ]
  },
  {
   "cell_type": "code",
   "execution_count": 8,
   "id": "289c0088-086f-4f68-9fd3-ffc0fda9b8f5",
   "metadata": {},
   "outputs": [
    {
     "name": "stdin",
     "output_type": "stream",
     "text": [
      "Enter the Year:  2003\n"
     ]
    },
    {
     "name": "stdout",
     "output_type": "stream",
     "text": [
      "Given Year is not a leap Year\n"
     ]
    }
   ],
   "source": [
    "def CheckLeap(Year):  \n",
    "  \n",
    "  if((Year % 400 == 0) or  (Year % 100 != 0) and  (Year % 4 == 0)):   \n",
    "    \n",
    "      print(\"Given Year is a leap Year\");  \n",
    "  \n",
    "  else:  \n",
    "    print (\"Given Year is not a leap Year\")  \n",
    "  \n",
    "Year = int(input(\"Enter the Year: \"))  \n",
    "\n",
    "CheckLeap(Year)  \n"
   ]
  },
  {
   "cell_type": "markdown",
   "id": "e10c8246-3fa5-4c1e-8f69-1b375dccf1ce",
   "metadata": {},
   "source": [
    "# 4.Write a Python Program to Check Prime Number?"
   ]
  },
  {
   "cell_type": "code",
   "execution_count": 25,
   "id": "5fc15deb-ee9f-4ee3-a465-6cc254f4a810",
   "metadata": {},
   "outputs": [
    {
     "name": "stdin",
     "output_type": "stream",
     "text": [
      "Enter the number:  0\n"
     ]
    },
    {
     "name": "stdout",
     "output_type": "stream",
     "text": [
      "Prime\n"
     ]
    }
   ],
   "source": [
    "import math\n",
    " \n",
    "def primeCheck(self):\n",
    "    status = 1\n",
    "    for i in range(2, int(math.sqrt(self)) + 1):\n",
    "        if self % i == 0:\n",
    "            status = 0\n",
    "            print(\"Not Prime\")\n",
    "            break\n",
    "        else:\n",
    "            continue\n",
    "    if status == 1:\n",
    "        print(\"Prime\")\n",
    "    return status\n",
    " \n",
    "number = int(input(\"Enter the number: \"))\n",
    "ret = primeCheck(number)"
   ]
  },
  {
   "cell_type": "markdown",
   "id": "163503a2-60a5-48de-a3e1-ec1d8efe0a5b",
   "metadata": {},
   "source": [
    "# 5.Write a Python Program to Print all Prime Numbers in an Interval of 1-10000?"
   ]
  },
  {
   "cell_type": "code",
   "execution_count": 33,
   "id": "c81ab17a-0498-4681-98b0-611c6e22569d",
   "metadata": {},
   "outputs": [
    {
     "name": "stdin",
     "output_type": "stream",
     "text": [
      "Please, Enter the Lowest Range Value:  1\n",
      "Please, Enter the Upper Range Value:  20\n"
     ]
    },
    {
     "name": "stdout",
     "output_type": "stream",
     "text": [
      "The Prime Numbers : \n",
      "2\n",
      "3\n",
      "5\n",
      "7\n",
      "11\n",
      "13\n",
      "17\n",
      "19\n"
     ]
    }
   ],
   "source": [
    "lower_value = int(input (\"Please, Enter the Lowest Range Value: \"))  \n",
    "upper_value = int(input (\"Please, Enter the Upper Range Value: \"))  \n",
    "  \n",
    "print (\"The Prime Numbers : \")  \n",
    "for number in range (lower_value, upper_value + 1):  \n",
    "    if number > 1:  \n",
    "        for i in range (2, number):  \n",
    "            if (number % i) == 0:  \n",
    "                break  \n",
    "        else:  \n",
    "            print (number)  "
   ]
  },
  {
   "cell_type": "code",
   "execution_count": null,
   "id": "d111ad65-fca1-4f8a-8a31-52a83722ed06",
   "metadata": {},
   "outputs": [],
   "source": []
  },
  {
   "cell_type": "code",
   "execution_count": null,
   "id": "2eba1f5e-4d44-45bf-8955-80a51d8777c2",
   "metadata": {},
   "outputs": [],
   "source": []
  }
 ],
 "metadata": {
  "kernelspec": {
   "display_name": "Python 3 (ipykernel)",
   "language": "python",
   "name": "python3"
  },
  "language_info": {
   "codemirror_mode": {
    "name": "ipython",
    "version": 3
   },
   "file_extension": ".py",
   "mimetype": "text/x-python",
   "name": "python",
   "nbconvert_exporter": "python",
   "pygments_lexer": "ipython3",
   "version": "3.11.7"
  }
 },
 "nbformat": 4,
 "nbformat_minor": 5
}
