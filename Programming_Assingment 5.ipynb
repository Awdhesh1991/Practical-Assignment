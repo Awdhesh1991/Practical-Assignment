{
 "cells": [
  {
   "cell_type": "markdown",
   "id": "a9e991b2-769b-4fee-a65f-28e661cfdd0c",
   "metadata": {},
   "source": [
    "# 1.Write a Python Program to Find LCM?"
   ]
  },
  {
   "cell_type": "code",
   "execution_count": 4,
   "id": "44cdcb6f-5f2e-4fa1-b387-35612e779d79",
   "metadata": {},
   "outputs": [
    {
     "name": "stdin",
     "output_type": "stream",
     "text": [
      "Enter first number:  15\n",
      "Enter second number:  24\n"
     ]
    },
    {
     "name": "stdout",
     "output_type": "stream",
     "text": [
      "LCM of 15 and 24 is: 120\n"
     ]
    }
   ],
   "source": [
    "def Greatest_Common_Divisor(a, b):\n",
    "    while b != 0:\n",
    "        a, b = b, a % b\n",
    "    return a\n",
    "\n",
    "def lcm(x, y):\n",
    "    return (x * y) // Greatest_Common_Divisor(x, y)\n",
    "\n",
    "number1 = int(input(\"Enter first number: \"))\n",
    "number2 = int(input(\"Enter second number: \"))\n",
    "\n",
    "lcm_result = lcm(number1, number2)\n",
    "\n",
    "print(\"LCM of\", number1, \"and\", number2, \"is:\", lcm_result)\n"
   ]
  },
  {
   "cell_type": "code",
   "execution_count": 7,
   "id": "88345ea4-0879-4dcf-8b7b-f9293e6c2414",
   "metadata": {},
   "outputs": [
    {
     "name": "stdin",
     "output_type": "stream",
     "text": [
      "Enter the fast number : 25\n",
      "Enter the second number : 26\n"
     ]
    },
    {
     "name": "stdout",
     "output_type": "stream",
     "text": [
      "LCM of 25 and 26 is: 120\n"
     ]
    }
   ],
   "source": [
    "def Gcd(a,b): \n",
    "\tif a == 0: \n",
    "\t\treturn b \n",
    "\treturn Gcd(b % a, a) \n",
    " \n",
    "def lcm(a,b): \n",
    "\treturn (a // Gcd(a,b))* b \n",
    "\n",
    "a = int(input(\"Enter the fast number :\"))\n",
    "b = int(input(\"Enter the second number :\"))\n",
    "\n",
    "print(\"LCM of\", a, \"and\", b, \"is:\", lcm_result) \n",
    " "
   ]
  },
  {
   "cell_type": "markdown",
   "id": "faa4bad1-6130-4b5d-b176-5955a8f62418",
   "metadata": {},
   "source": [
    "# 2.Write a Python Program to Find HCF?"
   ]
  },
  {
   "cell_type": "code",
   "execution_count": 8,
   "id": "6bf30ac8-4e71-48b1-bd22-4494ebbfe3d0",
   "metadata": {},
   "outputs": [
    {
     "name": "stdin",
     "output_type": "stream",
     "text": [
      "Enter first number:  45\n",
      "Enter second number:  25\n"
     ]
    },
    {
     "name": "stdout",
     "output_type": "stream",
     "text": [
      "HCF of 45 and 25 is: 5\n"
     ]
    }
   ],
   "source": [
    "def find_hcf(a, b):\n",
    "    while b != 0:\n",
    "        a, b = b, a % b\n",
    "    return a\n",
    "\n",
    "number1 = int(input(\"Enter first number: \"))\n",
    "number2 = int(input(\"Enter second number: \"))\n",
    "\n",
    "hcf_result = find_hcf(number1, number2)\n",
    "\n",
    "print(\"HCF of\", number1, \"and\", number2, \"is:\", hcf_result)\n"
   ]
  },
  {
   "cell_type": "markdown",
   "id": "57270aae-7b40-4355-8807-a55897da9e12",
   "metadata": {},
   "source": [
    "# 3.Write a Python Program to Convert Decimal to Binary, Octal and Hexadecimal?"
   ]
  },
  {
   "cell_type": "code",
   "execution_count": 9,
   "id": "ff8d0ab1-d282-48f1-b2e1-8e6f9220e708",
   "metadata": {},
   "outputs": [
    {
     "name": "stdin",
     "output_type": "stream",
     "text": [
      "Enter the number : 15\n"
     ]
    },
    {
     "name": "stdout",
     "output_type": "stream",
     "text": [
      "The convert of decimal number 15 is:\n",
      "0b1111 in binary\n",
      "0o17 in octal\n",
      "0xf in hexdecmal\n"
     ]
    }
   ],
   "source": [
    "decimal = int(input(\"Enter the number :\"))\n",
    "\n",
    "print(\"The convert of decimal number\", decimal, \"is:\")\n",
    "print(bin(decimal),\"in binary\")\n",
    "print(oct(decimal),\"in octal\")\n",
    "print(hex(decimal),\"in hexdecmal\")"
   ]
  },
  {
   "cell_type": "code",
   "execution_count": 10,
   "id": "91ec4aab-8323-41db-a32a-12255c735268",
   "metadata": {},
   "outputs": [
    {
     "name": "stdin",
     "output_type": "stream",
     "text": [
      "Enter a decimal number:  542\n"
     ]
    },
    {
     "name": "stdout",
     "output_type": "stream",
     "text": [
      "Binary: 1000011110\n",
      "Octal: 1036\n",
      "Hexadecimal: 21e\n"
     ]
    }
   ],
   "source": [
    "def decimal_to_binary(decimal):\n",
    "    binary = bin(decimal).replace(\"0b\", \"\")\n",
    "    return binary\n",
    "\n",
    "def decimal_to_octal(decimal):\n",
    "    octal = oct(decimal).replace(\"0o\", \"\")\n",
    "    return octal\n",
    "\n",
    "def decimal_to_hexadecimal(decimal):\n",
    "    hexadecimal = hex(decimal).replace(\"0x\", \"\")\n",
    "    return hexadecimal\n",
    "\n",
    "if __name__ == \"__main__\":\n",
    "    decimal = int(input(\"Enter a decimal number: \"))\n",
    "\n",
    "    binary = decimal_to_binary(decimal)\n",
    "    print(\"Binary: \" + binary)\n",
    "\n",
    "    octal = decimal_to_octal(decimal)\n",
    "    print(\"Octal: \" + octal)\n",
    "\n",
    "    hexadecimal = decimal_to_hexadecimal(decimal)\n",
    "    print(\"Hexadecimal: \" + hexadecimal)"
   ]
  },
  {
   "cell_type": "code",
   "execution_count": 11,
   "id": "bc88818b-bb7f-4911-846a-0b476baed552",
   "metadata": {},
   "outputs": [
    {
     "name": "stdin",
     "output_type": "stream",
     "text": [
      "Enter a decimal number:  258\n"
     ]
    },
    {
     "name": "stdout",
     "output_type": "stream",
     "text": [
      "Binary: 100000010\n",
      "Octal: 402\n",
      "Hexadecimal: 102\n"
     ]
    }
   ],
   "source": [
    "def decimal_to_binary(decimal):\n",
    "    return bin(decimal).replace(\"0b\", \"\")\n",
    "\n",
    "def decimal_to_octal(decimal):\n",
    "    return oct(decimal).replace(\"0o\", \"\")\n",
    "    \n",
    "def decimal_to_hexadecimal(decimal):\n",
    "    return hex(decimal).replace(\"0x\", \"\")\n",
    "\n",
    "decimal = int(input(\"Enter a decimal number: \"))\n",
    "\n",
    "binary = decimal_to_binary(decimal)\n",
    "octal = decimal_to_octal(decimal)\n",
    "hexadecimal = decimal_to_hexadecimal(decimal)\n",
    "\n",
    "print(\"Binary:\", binary)\n",
    "print(\"Octal:\", octal)\n",
    "print(\"Hexadecimal:\", hexadecimal)\n"
   ]
  },
  {
   "cell_type": "markdown",
   "id": "f6c1c10e-a67c-49ec-b819-b9dccab948a2",
   "metadata": {},
   "source": [
    "# 4.Write a Python Program To Find ASCII value of a character?"
   ]
  },
  {
   "cell_type": "code",
   "execution_count": 14,
   "id": "9ae73257-2ba8-4542-ac26-178784c4c297",
   "metadata": {},
   "outputs": [
    {
     "name": "stdout",
     "output_type": "stream",
     "text": [
      "The ASCII value of a is 97\n"
     ]
    }
   ],
   "source": [
    "char = \"a\"\n",
    "print(\"The ASCII value of\" ,char, \"is\" , ord(char))"
   ]
  },
  {
   "cell_type": "code",
   "execution_count": 16,
   "id": "a70ea2c8-7375-49be-808b-9a3af7dd948d",
   "metadata": {},
   "outputs": [
    {
     "name": "stdin",
     "output_type": "stream",
     "text": [
      "Enter a character:  s\n"
     ]
    },
    {
     "name": "stdout",
     "output_type": "stream",
     "text": [
      "The ASCII value of the character s is: 115\n"
     ]
    }
   ],
   "source": [
    "def ascii_value(char):\n",
    "    return ord(char)\n",
    "\n",
    "char = input(\"Enter a character: \")\n",
    "\n",
    "ascii_val = ascii_value(char)\n",
    "\n",
    "print(\"The ASCII value of the character\", char, \"is:\", ascii_val)\n"
   ]
  },
  {
   "cell_type": "markdown",
   "id": "acf438f3-a539-4037-9672-5238ff7588d3",
   "metadata": {},
   "source": [
    "# 5.Write a Python Program to Make a Simple Calculator with 4 basic mathematical operations?"
   ]
  },
  {
   "cell_type": "code",
   "execution_count": 18,
   "id": "e67bc9e1-f5b3-44f2-b342-e765c2188b80",
   "metadata": {},
   "outputs": [
    {
     "name": "stdout",
     "output_type": "stream",
     "text": [
      "Select operation:\n",
      "1. Addition\n",
      "2. Subtraction\n",
      "3. Multiplication\n",
      "4. Division\n"
     ]
    },
    {
     "name": "stdin",
     "output_type": "stream",
     "text": [
      "Enter choice (1/2/3/4):  2\n",
      "Enter first number:  25\n",
      "Enter second number:  35\n"
     ]
    },
    {
     "name": "stdout",
     "output_type": "stream",
     "text": [
      "Result: -10.0\n"
     ]
    }
   ],
   "source": [
    "def add(x, y):\n",
    "    return x + y\n",
    "\n",
    "def subtract(x, y):\n",
    "    return x - y\n",
    "\n",
    "def multiply(x, y):\n",
    "    return x * y\n",
    "\n",
    "def divide(x, y):\n",
    "    if y == 0:\n",
    "        return \"Cannot divide by zero\"\n",
    "    else:\n",
    "        return x / y\n",
    "\n",
    "print(\"Select operation:\")\n",
    "print(\"1. Addition\")\n",
    "print(\"2. Subtraction\")\n",
    "print(\"3. Multiplication\")\n",
    "print(\"4. Division\")\n",
    "\n",
    "choice = input(\"Enter choice (1/2/3/4): \")\n",
    "\n",
    "num1 = float(input(\"Enter first number: \"))\n",
    "num2 = float(input(\"Enter second number: \"))\n",
    "\n",
    "if choice == '1':\n",
    "    print(\"Result:\", add(num1, num2))\n",
    "elif choice == '2':\n",
    "    print(\"Result:\", subtract(num1, num2))\n",
    "elif choice == '3':\n",
    "    print(\"Result:\", multiply(num1, num2))\n",
    "elif choice == '4':\n",
    "    print(\"Result:\", divide(num1, num2))\n",
    "else:\n",
    "    print(\"Invalid input\")"
   ]
  },
  {
   "cell_type": "code",
   "execution_count": 19,
   "id": "562a1e8b-5f63-467e-8156-39e845c21e92",
   "metadata": {},
   "outputs": [
    {
     "name": "stdout",
     "output_type": "stream",
     "text": [
      "Simple Calculator\n",
      "-----------------\n",
      "Operations:\n",
      "1. Addition\n",
      "2. Subtraction\n",
      "3. Multiplication\n",
      "4. Division\n"
     ]
    },
    {
     "name": "stdin",
     "output_type": "stream",
     "text": [
      "Enter operation number (1-4):  1\n",
      "Enter the first number:  25\n",
      "Enter the second number:  25\n"
     ]
    },
    {
     "name": "stdout",
     "output_type": "stream",
     "text": [
      "-----------------\n",
      "25.0 + 25.0 = 50.0\n"
     ]
    }
   ],
   "source": [
    "# How to make a calculator in Python\n",
    "\n",
    "def add(x, y):\n",
    "    return x + y\n",
    "\n",
    "def subtract(x, y):\n",
    "    return x - y\n",
    "\n",
    "def multiply(x, y):\n",
    "    return x * y\n",
    "\n",
    "def divide(x, y):\n",
    "    return x / y\n",
    "\n",
    "print(\"Simple Calculator\")\n",
    "print(\"-----------------\")\n",
    "print(\"Operations:\")\n",
    "print(\"1. Addition\")\n",
    "print(\"2. Subtraction\")\n",
    "print(\"3. Multiplication\")\n",
    "print(\"4. Division\")\n",
    "\n",
    "choice = input(\"Enter operation number (1-4): \")\n",
    "\n",
    "num1 = float(input(\"Enter the first number: \"))\n",
    "num2 = float(input(\"Enter the second number: \"))\n",
    "\n",
    "if choice == \"1\":\n",
    "    result = add(num1, num2)\n",
    "    operation = \"+\"\n",
    "elif choice == \"2\":\n",
    "    result = subtract(num1, num2)\n",
    "    operation = \"-\"\n",
    "elif choice == \"3\":\n",
    "    result = multiply(num1, num2)\n",
    "    operation = \"*\"\n",
    "elif choice == \"4\":\n",
    "    result = divide(num1, num2)\n",
    "    operation = \"/\"\n",
    "else:\n",
    "    print(\"Invalid choice!\")\n",
    "    exit()\n",
    "\n",
    "print(\"-----------------\")\n",
    "print(f\"{num1} {operation} {num2} = {result}\")"
   ]
  },
  {
   "cell_type": "code",
   "execution_count": null,
   "id": "5925bf9f-d4ce-4729-874e-d7fce2ad1724",
   "metadata": {},
   "outputs": [],
   "source": []
  }
 ],
 "metadata": {
  "kernelspec": {
   "display_name": "Python 3 (ipykernel)",
   "language": "python",
   "name": "python3"
  },
  "language_info": {
   "codemirror_mode": {
    "name": "ipython",
    "version": 3
   },
   "file_extension": ".py",
   "mimetype": "text/x-python",
   "name": "python",
   "nbconvert_exporter": "python",
   "pygments_lexer": "ipython3",
   "version": "3.11.7"
  }
 },
 "nbformat": 4,
 "nbformat_minor": 5
}
